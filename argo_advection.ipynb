{
 "cells": [
  {
   "cell_type": "markdown",
   "metadata": {},
   "source": [
    "# Showcase how to run a simulation of virtual Argo floats\n",
    "\n",
    "Requirements:\n",
    "- Velocity fields from: GLOBAL-ANALYSIS-FORECAST-PHY-001-024\n",
    "- Python libraries:\n",
    "\n",
    "    ```bash\n",
    "    pip install progressbar cgen\n",
    "    ```\n",
    "\n",
    "***\n",
    "Script prepared by [Kevin Balem](http://github.com/quai20) (Feb. 2020)\n",
    "\n",
    "This work is part and was supported by the following projects:\n",
    "<div>\n",
    "<img src=\"https://avatars1.githubusercontent.com/u/58258213?s=460&v=4\" width=\"70\"/>\n",
    "<img src=\"http://www.argo-france.fr/wp-content/uploads/2019/10/Argo-logo_banner-color.png\" width=\"200\"/>\n",
    "<img src=\"https://www.umr-lops.fr/var/storage/images/_aliases/logo_main/medias-ifremer/medias-lops/logos/logo-lops-2/1459683-4-fre-FR/Logo-LOPS-2.png\" width=\"70\"/>\n",
    "</div>"
   ]
  },
  {
   "cell_type": "code",
   "execution_count": 7,
   "metadata": {},
   "outputs": [],
   "source": [
    "# !pip install progressbar\n",
    "# !pip install cgen"
   ]
  },
  {
   "cell_type": "code",
   "execution_count": 8,
   "metadata": {},
   "outputs": [
    {
     "name": "stderr",
     "output_type": "stream",
     "text": [
      "tornado.application - ERROR - Exception in callback functools.partial(<function Kernel.enter_eventloop.<locals>.advance_eventloop at 0x31626b6a8>)\n",
      "Traceback (most recent call last):\n",
      "  File \"/Users/gmaze/anaconda/envs/obidam36/lib/python3.6/site-packages/tornado/ioloop.py\", line 743, in _run_callback\n",
      "    ret = callback()\n",
      "  File \"/Users/gmaze/anaconda/envs/obidam36/lib/python3.6/site-packages/ipykernel/kernelbase.py\", line 310, in advance_eventloop\n",
      "    eventloop(self)\n",
      "TypeError: 'NoneType' object is not callable\n"
     ]
    }
   ],
   "source": [
    "import virtualargo as vaf\n",
    "\n",
    "import matplotlib.pyplot as plt\n",
    "%matplotlib notebook\n",
    "import cartopy.crs as ccrs\n",
    "import cartopy.feature as cfeature\n",
    "import matplotlib.patches as mpatches\n",
    "land_feature=cfeature.NaturalEarthFeature(category='physical',name='land',scale='50m',facecolor=[0.4,0.6,0.7])"
   ]
  },
  {
   "cell_type": "code",
   "execution_count": 2,
   "metadata": {},
   "outputs": [],
   "source": [
    "#CHAMPS DE VISTESSE\n",
    "filenames = {'U':\"/home/datawork-lops-oh/somovar/WP1/data/GLOBAL-ANALYSIS-FORECAST-PHY-001-024/*.nc\",\n",
    "             'V':\"/home/datawork-lops-oh/somovar/WP1/data/GLOBAL-ANALYSIS-FORECAST-PHY-001-024/*.nc\"}\n",
    "variables = {'U':'uo','V':'vo'}\n",
    "dimensions = {'time': 'time', 'depth':'depth', 'lat': 'latitude', 'lon': 'longitude'}"
   ]
  },
  {
   "cell_type": "code",
   "execution_count": 3,
   "metadata": {},
   "outputs": [],
   "source": [
    "# DEFINE THE VELOCITY FIELD OBJECT\n",
    "# USAGE : obj=vaf.velocityfield(ds=filenames,var=variables,dim=dimensions,isglobal=0 or 1) \n",
    "tfield=vaf.velocityfield(ds=filenames,var=variables,dim=dimensions,isglobal=0)"
   ]
  },
  {
   "cell_type": "code",
   "execution_count": null,
   "metadata": {},
   "outputs": [],
   "source": [
    "tfield.plot()"
   ]
  },
  {
   "cell_type": "code",
   "execution_count": 4,
   "metadata": {},
   "outputs": [],
   "source": [
    "# Initiate some Argo float infos\n",
    "#Number of float we want to advect\n",
    "nfloats=100\n",
    "\n",
    "#Then we must define numpy array (size nfloats) for lat,lon,depth and time\n",
    "lat0=36.00\n",
    "lon0=-50.00\n",
    "t0=np.datetime64('2018-01-01')\n",
    "lon=np.random.uniform(lon0-1.0, lon0+1.0, size=nfloats)\n",
    "lat=np.random.uniform(lat0-1.0, lat0+1.0, size=nfloats)\n",
    "depth=np.linspace(1.0,1.0,nfloats) #1m depth\n",
    "ti=np.empty(nfloats,dtype='datetime64[D]')\n",
    "ti[:]=t0\n",
    "\n",
    "# DEFINE THE FLOAT OBJECT\n",
    "# USAGE : obj=virtualfloat(lat=lat_array,lon=lon_array,depth=depth_array,\n",
    "#                          time=time_array,vfield=velocity_field_object) \n",
    "myfloats=vaf.virtualfleet(lat=lat,lon=lon,depth=depth,time=ti,vfield=tfield)"
   ]
  },
  {
   "cell_type": "code",
   "execution_count": null,
   "metadata": {},
   "outputs": [],
   "source": [
    "myfloats.plotfloat()"
   ]
  },
  {
   "cell_type": "code",
   "execution_count": 5,
   "metadata": {},
   "outputs": [
    {
     "name": "stderr",
     "output_type": "stream",
     "text": [
      "INFO: Compiled ArgoParticleArgoVerticalMovementAdvectionRK4 ==> /tmp/parcels-500721/69a6749e6d22ef59a43b511d67382492_0.so\n",
      "INFO: Temporary output files are stored in out-QQATLAVD.\n",
      "INFO: You can use \"parcels_convert_npydir_to_netcdf out-QQATLAVD\" to convert these to a NetCDF file during the run.\n",
      "100% (31536000.0 of 31536000.0) |########| Elapsed Time: 0:05:48 Time:  0:05:48\n"
     ]
    }
   ],
   "source": [
    "# START THE ADVECTION\n",
    "# USAGE : float_object.advect(duration=days,dt_run=hours,dt_out=hours,output_file='my_advection_nXX.nc')\n",
    "myfloats.simulate(duration=365*2,dt_run=1./12,dt_out=24,output_file='test_20200225_a.nc')"
   ]
  },
  {
   "cell_type": "code",
   "execution_count": null,
   "metadata": {},
   "outputs": [],
   "source": [
    "# EXAMPLE FOR PLOTTING RESULTS\n",
    "simu=xr.open_dataset('test_20200221_0.nc')\n",
    "velo=xr.open_dataset('/home/datawork-lops-oh/somovar/WP1/data/GLOBAL-ANALYSIS-FORECAST-PHY-001-024/20191205_global-analysis-forecast-phy-001-024.nc')\n",
    "\n",
    "pr1=ccrs.PlateCarree()\n",
    "pr2=ccrs.LambertConformal(-72,35,false_easting=0.0, false_northing=0.0, secant_latitudes=None, standard_parallels=None, cutoff=-30)\n",
    "\n",
    "fig=plt.figure()\n",
    "ax3 = fig.add_subplot(1,1,1,projection=pr2)\n",
    "ax3.add_feature(land_feature, edgecolor='black')\n",
    "ax3.set_extent([simu.lon.min()-10, simu.lon.max()+10, simu.lat.min()-10, simu.lat.max()+10])\n",
    "\n",
    "ax3.gridlines(linewidth=1, color='gray', alpha=0.5, linestyle=':')\n",
    "\n",
    "velo['zos'][0][:][:].plot(cmap=plt.cm.coolwarm,\n",
    "                          cbar_kwargs={'orientation': 'horizontal', 'shrink':0.5, 'pad':0.1},\n",
    "                          transform=pr1)\n",
    "\n",
    "for i in simu.traj:\n",
    "    temp=simu.isel(traj=i).sortby('time')\n",
    "    ax3.plot(temp['lon'][0],temp['lat'][0],'k.',transform=pr1)\n",
    "    ax3.plot(temp['lon'],temp['lat'],linewidth=2,transform=pr1)\n",
    "\n",
    "\n",
    "ax3.plot(lon0,lat0,'or','markersize',4,transform=pr1)\n",
    "ax3.add_patch(mpatches.Rectangle(xy=[simu.lon.min()-8, simu.lat.min()-8], width=(simu.lon.max()-simu.lon.min()+16), height=(simu.lat.max()-simu.lat.min()+16),\n",
    "                                    edgecolor='k',facecolor='none',linestyle=':',transform=pr1))\n",
    "\n",
    "plt.title(\"\")"
   ]
  }
 ],
 "metadata": {
  "kernelspec": {
   "display_name": "Python 3",
   "language": "python",
   "name": "python3"
  },
  "language_info": {
   "codemirror_mode": {
    "name": "ipython",
    "version": 3
   },
   "file_extension": ".py",
   "mimetype": "text/x-python",
   "name": "python",
   "nbconvert_exporter": "python",
   "pygments_lexer": "ipython3",
   "version": "3.6.7"
  },
  "widgets": {
   "application/vnd.jupyter.widget-state+json": {
    "state": {},
    "version_major": 2,
    "version_minor": 0
   }
  }
 },
 "nbformat": 4,
 "nbformat_minor": 4
}
