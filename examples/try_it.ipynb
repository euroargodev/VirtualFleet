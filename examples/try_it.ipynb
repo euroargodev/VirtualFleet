{
 "cells": [
  {
   "cell_type": "markdown",
   "metadata": {},
   "source": [
    "# Showcase how to run and plot a simulation of virtual Argo floats\n",
    "\n",
    "Here only trajectories are looked at, not measurements collected by floats.\n",
    "\n",
    "Requirements:\n",
    "- Velocity fields from Mercator forecast ([GLOBAL-ANALYSIS-FORECAST-PHY-001-024](https://resources.marine.copernicus.eu/?option=com_csw&task=results?option=com_csw&view=details&product_id=GLOBAL_ANALYSIS_FORECAST_PHY_001_024))\n",
    "\n",
    "***\n",
    "Script prepared by [K Balem](http://github.com/quai20) andf [G Maze](http://github.com/gmaze) (Jun. 2020)\n",
    "\n",
    "This work is part and was supported by the following projects:\n",
    "<div>\n",
    "<img src=\"https://avatars1.githubusercontent.com/u/58258213?s=460&v=4\" width=\"70\"/>\n",
    "<img src=\"http://www.argo-france.fr/wp-content/uploads/2019/10/Argo-logo_banner-color.png\" width=\"200\"/>\n",
    "<img src=\"https://www.umr-lops.fr/var/storage/images/_aliases/logo_main/medias-ifremer/medias-lops/logos/logo-lops-2/1459683-4-fre-FR/Logo-LOPS-2.png\" width=\"70\"/>\n",
    "</div>"
   ]
  },
  {
   "cell_type": "code",
   "execution_count": 1,
   "metadata": {},
   "outputs": [],
   "source": [
    "import sys\n",
    "import numpy as np\n",
    "import xarray as xr\n",
    "import pandas as pd\n",
    "\n",
    "sys.path.insert(0, \"..\") # This is while waiting for the pypi integration\n",
    "import virtualargofleet as vaf\n",
    "\n",
    "import matplotlib as mpl\n",
    "import matplotlib.pyplot as plt\n",
    "import matplotlib.patches as mpatches\n",
    "%matplotlib inline\n",
    "from mpl_toolkits.mplot3d import Axes3D\n",
    "\n",
    "import cartopy.crs as ccrs\n",
    "import cartopy.feature as cfeature\n",
    "land_feature=cfeature.NaturalEarthFeature(category='physical',name='land',scale='50m',facecolor=[0.4,0.6,0.7])"
   ]
  },
  {
   "cell_type": "markdown",
   "metadata": {},
   "source": [
    "# Set-up the velocity field"
   ]
  },
  {
   "cell_type": "code",
   "execution_count": 2,
   "metadata": {},
   "outputs": [],
   "source": [
    "# Set how to find the velocity field\n",
    "src = \"/home/datawork-lops-oh/somovar/WP1/data/GLOBAL-ANALYSIS-FORECAST-PHY-001-024\" # Datarmor\n",
    "src = \"/Users/gmaze/data/MERCATOR/data/GLOBAL-ANALYSIS-FORECAST-PHY-001-024\" # Laptop\n",
    "src = \"/home/jovyan/data\" # Binder\n",
    "\n",
    "filenames = {'U': src + \"/2019*.nc\",\n",
    "             'V': src + \"/2019*.nc\"}\n",
    "variables = {'U':'uo','V':'vo'}\n",
    "dimensions = {'time': 'time', 'depth':'depth', 'lat': 'latitude', 'lon': 'longitude'}"
   ]
  },
  {
   "cell_type": "code",
   "execution_count": 3,
   "metadata": {},
   "outputs": [
    {
     "ename": "OSError",
     "evalue": "FieldSet files not found: /home/jovyan/data/2019*.nc",
     "output_type": "error",
     "traceback": [
      "\u001b[0;31m---------------------------------------------------------------------------\u001b[0m",
      "\u001b[0;31mOSError\u001b[0m                                   Traceback (most recent call last)",
      "\u001b[0;32m<ipython-input-3-2be2009bbb88>\u001b[0m in \u001b[0;36m<module>\u001b[0;34m\u001b[0m\n\u001b[1;32m      1\u001b[0m \u001b[0;31m# Ddefine the velocity field object of the VF:\u001b[0m\u001b[0;34m\u001b[0m\u001b[0;34m\u001b[0m\u001b[0;34m\u001b[0m\u001b[0m\n\u001b[1;32m      2\u001b[0m \u001b[0;31m# USAGE : obj = vaf.velocityfield(ds=filenames, var=variables, dim=dimensions, isglobal=0 or 1)\u001b[0m\u001b[0;34m\u001b[0m\u001b[0;34m\u001b[0m\u001b[0;34m\u001b[0m\u001b[0m\n\u001b[0;32m----> 3\u001b[0;31m \u001b[0mVELfield\u001b[0m \u001b[0;34m=\u001b[0m \u001b[0mvaf\u001b[0m\u001b[0;34m.\u001b[0m\u001b[0mvelocityfield\u001b[0m\u001b[0;34m(\u001b[0m\u001b[0mds\u001b[0m\u001b[0;34m=\u001b[0m\u001b[0mfilenames\u001b[0m\u001b[0;34m,\u001b[0m \u001b[0mvar\u001b[0m\u001b[0;34m=\u001b[0m\u001b[0mvariables\u001b[0m\u001b[0;34m,\u001b[0m \u001b[0mdim\u001b[0m\u001b[0;34m=\u001b[0m\u001b[0mdimensions\u001b[0m\u001b[0;34m,\u001b[0m \u001b[0misglobal\u001b[0m\u001b[0;34m=\u001b[0m\u001b[0;36m0\u001b[0m\u001b[0;34m)\u001b[0m\u001b[0;34m\u001b[0m\u001b[0;34m\u001b[0m\u001b[0m\n\u001b[0m",
      "\u001b[0;32m~/git/github/euroargodev/VirtualFleet/virtualargofleet/virtualargofleet.py\u001b[0m in \u001b[0;36m__init__\u001b[0;34m(self, **kwargs)\u001b[0m\n\u001b[1;32m     98\u001b[0m         \u001b[0mself\u001b[0m\u001b[0;34m.\u001b[0m\u001b[0misglobal\u001b[0m \u001b[0;34m=\u001b[0m \u001b[0mkwargs\u001b[0m\u001b[0;34m[\u001b[0m\u001b[0;34m'isglobal'\u001b[0m\u001b[0;34m]\u001b[0m\u001b[0;34m\u001b[0m\u001b[0;34m\u001b[0m\u001b[0m\n\u001b[1;32m     99\u001b[0m         \u001b[0;31m#define parcels fieldset\u001b[0m\u001b[0;34m\u001b[0m\u001b[0;34m\u001b[0m\u001b[0;34m\u001b[0m\u001b[0m\n\u001b[0;32m--> 100\u001b[0;31m         \u001b[0mself\u001b[0m\u001b[0;34m.\u001b[0m\u001b[0mfieldset\u001b[0m \u001b[0;34m=\u001b[0m \u001b[0mFieldSet\u001b[0m\u001b[0;34m.\u001b[0m\u001b[0mfrom_netcdf\u001b[0m\u001b[0;34m(\u001b[0m\u001b[0mself\u001b[0m\u001b[0;34m.\u001b[0m\u001b[0mfield\u001b[0m\u001b[0;34m,\u001b[0m \u001b[0mself\u001b[0m\u001b[0;34m.\u001b[0m\u001b[0mvar\u001b[0m\u001b[0;34m,\u001b[0m \u001b[0mself\u001b[0m\u001b[0;34m.\u001b[0m\u001b[0mdim\u001b[0m\u001b[0;34m,\u001b[0m \u001b[0mallow_time_extrapolation\u001b[0m \u001b[0;34m=\u001b[0m \u001b[0;32mTrue\u001b[0m\u001b[0;34m)\u001b[0m\u001b[0;34m\u001b[0m\u001b[0;34m\u001b[0m\u001b[0m\n\u001b[0m\u001b[1;32m    101\u001b[0m         \u001b[0;32mif\u001b[0m \u001b[0mself\u001b[0m\u001b[0;34m.\u001b[0m\u001b[0misglobal\u001b[0m \u001b[0;34m:\u001b[0m\u001b[0;34m\u001b[0m\u001b[0;34m\u001b[0m\u001b[0m\n\u001b[1;32m    102\u001b[0m             \u001b[0mself\u001b[0m\u001b[0;34m.\u001b[0m\u001b[0mfieldset\u001b[0m\u001b[0;34m.\u001b[0m\u001b[0madd_constant\u001b[0m\u001b[0;34m(\u001b[0m\u001b[0;34m'halo_west'\u001b[0m\u001b[0;34m,\u001b[0m \u001b[0mfieldset\u001b[0m\u001b[0;34m.\u001b[0m\u001b[0mU\u001b[0m\u001b[0;34m.\u001b[0m\u001b[0mgrid\u001b[0m\u001b[0;34m.\u001b[0m\u001b[0mlon\u001b[0m\u001b[0;34m[\u001b[0m\u001b[0;36m0\u001b[0m\u001b[0;34m]\u001b[0m\u001b[0;34m)\u001b[0m\u001b[0;34m\u001b[0m\u001b[0;34m\u001b[0m\u001b[0m\n",
      "\u001b[0;32m~/anaconda/envs/obidam36/lib/python3.6/site-packages/parcels/fieldset.py\u001b[0m in \u001b[0;36mfrom_netcdf\u001b[0;34m(cls, filenames, variables, dimensions, indices, fieldtype, mesh, timestamps, allow_time_extrapolation, time_periodic, deferred_load, field_chunksize, **kwargs)\u001b[0m\n\u001b[1;32m    359\u001b[0m             \u001b[0mpaths\u001b[0m \u001b[0;34m=\u001b[0m \u001b[0mfilenames\u001b[0m\u001b[0;34m[\u001b[0m\u001b[0mvar\u001b[0m\u001b[0;34m]\u001b[0m \u001b[0;32mif\u001b[0m \u001b[0mtype\u001b[0m\u001b[0;34m(\u001b[0m\u001b[0mfilenames\u001b[0m\u001b[0;34m)\u001b[0m \u001b[0;32mis\u001b[0m \u001b[0mdict\u001b[0m \u001b[0;32mand\u001b[0m \u001b[0mvar\u001b[0m \u001b[0;32min\u001b[0m \u001b[0mfilenames\u001b[0m \u001b[0;32melse\u001b[0m \u001b[0mfilenames\u001b[0m\u001b[0;34m\u001b[0m\u001b[0;34m\u001b[0m\u001b[0m\n\u001b[1;32m    360\u001b[0m             \u001b[0;32mif\u001b[0m \u001b[0mtype\u001b[0m\u001b[0;34m(\u001b[0m\u001b[0mpaths\u001b[0m\u001b[0;34m)\u001b[0m \u001b[0;32mis\u001b[0m \u001b[0;32mnot\u001b[0m \u001b[0mdict\u001b[0m\u001b[0;34m:\u001b[0m\u001b[0;34m\u001b[0m\u001b[0;34m\u001b[0m\u001b[0m\n\u001b[0;32m--> 361\u001b[0;31m                 \u001b[0mpaths\u001b[0m \u001b[0;34m=\u001b[0m \u001b[0mcls\u001b[0m\u001b[0;34m.\u001b[0m\u001b[0mparse_wildcards\u001b[0m\u001b[0;34m(\u001b[0m\u001b[0mpaths\u001b[0m\u001b[0;34m,\u001b[0m \u001b[0mfilenames\u001b[0m\u001b[0;34m,\u001b[0m \u001b[0mvar\u001b[0m\u001b[0;34m)\u001b[0m\u001b[0;34m\u001b[0m\u001b[0;34m\u001b[0m\u001b[0m\n\u001b[0m\u001b[1;32m    362\u001b[0m             \u001b[0;32melse\u001b[0m\u001b[0;34m:\u001b[0m\u001b[0;34m\u001b[0m\u001b[0;34m\u001b[0m\u001b[0m\n\u001b[1;32m    363\u001b[0m                 \u001b[0;32mfor\u001b[0m \u001b[0mdim\u001b[0m\u001b[0;34m,\u001b[0m \u001b[0mp\u001b[0m \u001b[0;32min\u001b[0m \u001b[0mpaths\u001b[0m\u001b[0;34m.\u001b[0m\u001b[0mitems\u001b[0m\u001b[0;34m(\u001b[0m\u001b[0;34m)\u001b[0m\u001b[0;34m:\u001b[0m\u001b[0;34m\u001b[0m\u001b[0;34m\u001b[0m\u001b[0m\n",
      "\u001b[0;32m~/anaconda/envs/obidam36/lib/python3.6/site-packages/parcels/fieldset.py\u001b[0m in \u001b[0;36mparse_wildcards\u001b[0;34m(cls, paths, filenames, var)\u001b[0m\n\u001b[1;32m    290\u001b[0m         \u001b[0;32mif\u001b[0m \u001b[0mlen\u001b[0m\u001b[0;34m(\u001b[0m\u001b[0mpaths\u001b[0m\u001b[0;34m)\u001b[0m \u001b[0;34m==\u001b[0m \u001b[0;36m0\u001b[0m\u001b[0;34m:\u001b[0m\u001b[0;34m\u001b[0m\u001b[0;34m\u001b[0m\u001b[0m\n\u001b[1;32m    291\u001b[0m             \u001b[0mnotfound_paths\u001b[0m \u001b[0;34m=\u001b[0m \u001b[0mfilenames\u001b[0m\u001b[0;34m[\u001b[0m\u001b[0mvar\u001b[0m\u001b[0;34m]\u001b[0m \u001b[0;32mif\u001b[0m \u001b[0misinstance\u001b[0m\u001b[0;34m(\u001b[0m\u001b[0mfilenames\u001b[0m\u001b[0;34m,\u001b[0m \u001b[0mdict\u001b[0m\u001b[0;34m)\u001b[0m \u001b[0;32mand\u001b[0m \u001b[0mvar\u001b[0m \u001b[0;32min\u001b[0m \u001b[0mfilenames\u001b[0m \u001b[0;32melse\u001b[0m \u001b[0mfilenames\u001b[0m\u001b[0;34m\u001b[0m\u001b[0;34m\u001b[0m\u001b[0m\n\u001b[0;32m--> 292\u001b[0;31m             \u001b[0;32mraise\u001b[0m \u001b[0mIOError\u001b[0m\u001b[0;34m(\u001b[0m\u001b[0;34m\"FieldSet files not found: %s\"\u001b[0m \u001b[0;34m%\u001b[0m \u001b[0mstr\u001b[0m\u001b[0;34m(\u001b[0m\u001b[0mnotfound_paths\u001b[0m\u001b[0;34m)\u001b[0m\u001b[0;34m)\u001b[0m\u001b[0;34m\u001b[0m\u001b[0;34m\u001b[0m\u001b[0m\n\u001b[0m\u001b[1;32m    293\u001b[0m         \u001b[0;32mfor\u001b[0m \u001b[0mfp\u001b[0m \u001b[0;32min\u001b[0m \u001b[0mpaths\u001b[0m\u001b[0;34m:\u001b[0m\u001b[0;34m\u001b[0m\u001b[0;34m\u001b[0m\u001b[0m\n\u001b[1;32m    294\u001b[0m             \u001b[0;32mif\u001b[0m \u001b[0;32mnot\u001b[0m \u001b[0mpath\u001b[0m\u001b[0;34m.\u001b[0m\u001b[0mexists\u001b[0m\u001b[0;34m(\u001b[0m\u001b[0mfp\u001b[0m\u001b[0;34m)\u001b[0m\u001b[0;34m:\u001b[0m\u001b[0;34m\u001b[0m\u001b[0;34m\u001b[0m\u001b[0m\n",
      "\u001b[0;31mOSError\u001b[0m: FieldSet files not found: /home/jovyan/data/2019*.nc"
     ]
    }
   ],
   "source": [
    "# Ddefine the velocity field object of the VF:\n",
    "# USAGE : obj = vaf.velocityfield(ds=filenames, var=variables, dim=dimensions, isglobal=0 or 1) \n",
    "VELfield = vaf.velocityfield(ds=filenames, var=variables, dim=dimensions, isglobal=0)"
   ]
  },
  {
   "cell_type": "code",
   "execution_count": null,
   "metadata": {},
   "outputs": [],
   "source": [
    "VELfield.plot()"
   ]
  },
  {
   "cell_type": "markdown",
   "metadata": {},
   "source": [
    "# Define a deployment plan of virtual Argo floats\n",
    "\n",
    "Choose to run one of the following plans:\n"
   ]
  },
  {
   "cell_type": "markdown",
   "metadata": {},
   "source": [
    "## Plan A: Random in a small rectangular region"
   ]
  },
  {
   "cell_type": "code",
   "execution_count": null,
   "metadata": {},
   "outputs": [],
   "source": [
    "# Number of float we want to simulate\n",
    "nfloats = 10\n",
    "\n",
    "# Then we must define numpy array (size nfloats) for lat, lon, depth and time\n",
    "lon0, lat0 = -50.00, 36.00  # Center of the box\n",
    "Lx, Ly = 1., 1. # Size of the box\n",
    "lon = np.random.uniform(lon0-Lx/2, lon0+Lx/2, size=nfloats)\n",
    "lat = np.random.uniform(lat0-Ly/2, lat0+Ly/2, size=nfloats)\n",
    "dpt = np.linspace(1.0, 1.0, nfloats) #1m depth\n",
    "tim = np.full_like(lat, np.datetime64('2019-01-01'))\n",
    "\n",
    "# DEFINE THE FLOAT OBJECT\n",
    "VFleet = vaf.virtualfleet(lat=lat, lon=lon, depth=dpt, time=tim, vfield=VELfield)"
   ]
  },
  {
   "cell_type": "markdown",
   "metadata": {},
   "source": [
    "## Plan B: Along a cruise line"
   ]
  },
  {
   "cell_type": "code",
   "execution_count": null,
   "metadata": {},
   "outputs": [],
   "source": [
    "# Number of floats we want to simulate:\n",
    "nfloats = 10\n",
    "\n",
    "# Define space/time locations of deployments:\n",
    "lat = np.linspace(30, 38, nfloats)\n",
    "lon = np.full_like(lat, -70)\n",
    "dpt = np.linspace(1.0, 1.0, nfloats) #1m depth\n",
    "tim = np.full_like(lat, np.datetime64('2019-01-01'))\n",
    "\n",
    "# DEFINE THE FLOAT OBJECT\n",
    "VFleet = vaf.virtualfleet(lat=lat, lon=lon, depth=dpt, time=tim, vfield=VELfield)"
   ]
  },
  {
   "cell_type": "markdown",
   "metadata": {},
   "source": [
    "## Plan C: Single location, release through time\n",
    "\n",
    "ps: this plan allows to make sure the full velocity field time series is used (floats trajectories will be different)"
   ]
  },
  {
   "cell_type": "code",
   "execution_count": null,
   "metadata": {},
   "outputs": [],
   "source": [
    "nfloats = 6\n",
    "tim = pd.date_range('2019-01-01', '2019-06-01', nfloats)\n",
    "lon = np.full_like(tim, -60)\n",
    "lat = np.full_like(tim, 36)\n",
    "dpt = np.full_like(tim, 1)\n",
    "VFleet = vaf.virtualfleet(lat=lat, lon=lon, depth=dpt, time=tim, vfield=VELfield)"
   ]
  },
  {
   "cell_type": "markdown",
   "metadata": {},
   "source": [
    "## Show deployment plan"
   ]
  },
  {
   "cell_type": "code",
   "execution_count": null,
   "metadata": {},
   "outputs": [],
   "source": [
    "VFleet.plotfloat()"
   ]
  },
  {
   "cell_type": "code",
   "execution_count": null,
   "metadata": {},
   "outputs": [],
   "source": [
    "plt.hist(VFleet.time);"
   ]
  },
  {
   "cell_type": "markdown",
   "metadata": {},
   "source": [
    "# Run the virtual fleet simulation"
   ]
  },
  {
   "cell_type": "code",
   "execution_count": null,
   "metadata": {},
   "outputs": [],
   "source": [
    "%%time\n",
    "# Define where to store results\n",
    "run_outputs = \"out\"\n",
    "output_file = run_outputs + '/test_%s.nc' % pd.to_datetime('now').strftime(\"%Y%m%d%H%M%S\")\n",
    "print(output_file)\n",
    "\n",
    "# USAGE : float_object.simulate(duration=days,dt_run=hours,dt_out=hours,output_file='my_advection_nXX.nc')\n",
    "VFleet.simulate(duration=365, dt_run=1, dt_out=1, output_file=output_file)"
   ]
  },
  {
   "cell_type": "markdown",
   "metadata": {},
   "source": [
    "# Plot the virtual fleet simulation results"
   ]
  },
  {
   "cell_type": "code",
   "execution_count": null,
   "metadata": {},
   "outputs": [],
   "source": [
    "# Load simulation results:\n",
    "simu = xr.open_dataset(output_file)\n",
    "print(simu)"
   ]
  },
  {
   "cell_type": "code",
   "execution_count": null,
   "metadata": {},
   "outputs": [],
   "source": [
    "VELfield.field['U']"
   ]
  },
  {
   "cell_type": "code",
   "execution_count": null,
   "metadata": {},
   "outputs": [],
   "source": [
    "pr1 = ccrs.PlateCarree()\n",
    "\n",
    "fig = plt.figure(figsize=(10,10), dpi=90)\n",
    "ax3 = fig.add_subplot(1,1,1,projection=pr1)\n",
    "ax3.add_feature(land_feature, edgecolor='black')\n",
    "ax3.set_extent([simu.lon.min()-10, simu.lon.max()+10, simu.lat.min()-10, simu.lat.max()+10])\n",
    "\n",
    "ax3.gridlines(linewidth=1, color='gray', alpha=0.5, linestyle=':')\n",
    "\n",
    "# And velocity field to superimpose on plot (SLA):\n",
    "if False:\n",
    "    velo = xr.open_dataset(src + '/20200627_global-analysis-forecast-phy-001-024.nc')\n",
    "    velo['zos'][0][:][:].plot(cmap=plt.cm.coolwarm,\n",
    "                              cbar_kwargs={'orientation': 'horizontal', 'shrink':0.5, 'pad':0.1},\n",
    "                              transform=pr1)\n",
    "\n",
    "for i in simu['traj']:\n",
    "    this = simu.isel(traj=i).sortby('time')\n",
    "    ax3.plot(this['lon'][0], this['lat'][0],'k.', transform=pr1)\n",
    "    ax3.plot(this['lon'], this['lat'], linewidth=1, transform=pr1)\n",
    "\n",
    "plt.title(\"Virtual Fleet simulation: float trajectories\\n(%s)\" % output_file);"
   ]
  },
  {
   "cell_type": "code",
   "execution_count": null,
   "metadata": {},
   "outputs": [],
   "source": [
    "# trj = simu.isel(traj=0)\n",
    "# trj = simu.isel(traj=nfloats-1)\n",
    "\n",
    "fig = plt.figure(figsize=(20,10))\n",
    "ax = fig.add_subplot(111, projection='3d')\n",
    "\n",
    "for it in simu['traj']:\n",
    "    trj = simu.sel(traj=it)\n",
    "    ax.plot(trj['lon'], trj['lat'], trj['z'], 'gray', linewidth=0.5)\n",
    "    # sc = ax.scatter(trj['lon'], trj['lat'], trj['z'], c=(trj['drift_age']-trj['drift_age'][0])/3600/24)\n",
    "    sc = ax.scatter(trj['lon'], trj['lat'], trj['z'], c=trj['cycle_phase'])\n",
    "plt.colorbar(sc)\n",
    "ax.set_xlabel(\"Longitude\")\n",
    "ax.set_ylabel(\"Latitude\")\n",
    "ax.set_zlabel(\"Depth (m)\")\n",
    "ax.set_zlim(np.max(trj['z']),0)\n",
    "plt.show()"
   ]
  },
  {
   "cell_type": "code",
   "execution_count": null,
   "metadata": {},
   "outputs": [],
   "source": [
    "driftdepth = 1000\n",
    "maxdepth = 2000\n",
    "mindepth = 20\n",
    "vertical_speed = 0.09  # in m/s\n",
    "cycletime = 10 * 86400  # in s\n",
    "# drifttime = 10 * 86400 - 3600 # in s (taking ~1h to go down at 2000)\n",
    "\n",
    "# Ascent/descent times:\n",
    "transit = (driftdepth-mindepth)/vertical_speed # Time to descent to parking (mindepth to driftdepth at vertical_speed)\n",
    "transit += (maxdepth-driftdepth)/vertical_speed # Time to descent to profile depth (driftdepth to maxdepth at vertical_speed)\n",
    "transit += (maxdepth-mindepth)/vertical_speed # Time to ascent (maxdepth to mindepth at vertical_speed)\n",
    "drifttime = cycletime - transit"
   ]
  },
  {
   "cell_type": "code",
   "execution_count": null,
   "metadata": {},
   "outputs": [],
   "source": []
  },
  {
   "cell_type": "code",
   "execution_count": null,
   "metadata": {},
   "outputs": [],
   "source": [
    "trj = simu.isel(traj=0)\n",
    "# trj = simu.isel(traj=nfloats-1)\n",
    "\n",
    "dpt = trj['z']\n",
    "y = trj['cycle_age']/cycletime\n",
    "# y = trj['cycle_age']\n",
    "# x = np.arange(0, len(y))\n",
    "x = trj['time'].values\n",
    "\n",
    "fig, ax = plt.subplots(nrows=2, ncols=1, figsize=(15,10), sharex=True)\n",
    "ax = ax.flatten()\n",
    "\n",
    "ax[0].plot(x, -dpt, 'gray', linewidth=0.5)\n",
    "sc = ax[0].scatter(x, -dpt, c=trj['cycle_phase'], marker='o', cmap=mpl.cm.get_cmap('jet', 4))\n",
    "ax[0].grid()\n",
    "ax[0].set_ylabel('Depth [m]')\n",
    "\n",
    "ax[1].plot(x, y, 'gray', linewidth=0.5)\n",
    "sc = ax[1].scatter(x, y, c=trj['cycle_phase'], marker='o', cmap=mpl.cm.get_cmap('jet', 4))\n",
    "ax[1].set_ylabel('Cycle Age [cycletime]')\n",
    "ax[1].grid()\n",
    "\n",
    "# ax[0].set_xlim(x[0], x[400])\n",
    "ax[0].hlines(-mindepth,x[~np.isnan(x)][0], x[~np.isnan(x)][-1])"
   ]
  },
  {
   "cell_type": "code",
   "execution_count": null,
   "metadata": {},
   "outputs": [],
   "source": [
    "for i in simu['traj']:\n",
    "    ds = simu.sel(traj=i)\n",
    "    print(ds['time'][0].values)"
   ]
  },
  {
   "cell_type": "code",
   "execution_count": null,
   "metadata": {},
   "outputs": [],
   "source": [
    "x[~np.isnan(x)]"
   ]
  }
 ],
 "metadata": {
  "kernelspec": {
   "display_name": "Python 3",
   "language": "python",
   "name": "python3"
  },
  "language_info": {
   "codemirror_mode": {
    "name": "ipython",
    "version": 3
   },
   "file_extension": ".py",
   "mimetype": "text/x-python",
   "name": "python",
   "nbconvert_exporter": "python",
   "pygments_lexer": "ipython3",
   "version": "3.6.10"
  },
  "widgets": {
   "application/vnd.jupyter.widget-state+json": {
    "state": {},
    "version_major": 2,
    "version_minor": 0
   }
  }
 },
 "nbformat": 4,
 "nbformat_minor": 4
}
